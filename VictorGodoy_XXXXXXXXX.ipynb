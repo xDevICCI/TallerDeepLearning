{
  "cells": [
    {
      "cell_type": "markdown",
      "metadata": {
        "id": "view-in-github",
        "colab_type": "text"
      },
      "source": [
        "<a href=\"https://colab.research.google.com/github/xDevICCI/TallerDeepLearning/blob/main/VictorGodoy_XXXXXXXXX.ipynb\" target=\"_parent\"><img src=\"https://colab.research.google.com/assets/colab-badge.svg\" alt=\"Open In Colab\"/></a>"
      ]
    },
    {
      "cell_type": "markdown",
      "source": [
        "<font color='red'>WARNING-1: No se aceptan soluciones que usen metodologías distintas a las vistas en clases.</font>\n",
        "\n",
        "<font color='orange'>Está permitido usar los códigos de los ejemplos vistos en clases.</font>\n",
        "\n"
      ],
      "metadata": {
        "id": "fMABYf0OhnLJ"
      }
    },
    {
      "cell_type": "markdown",
      "source": [
        "# 0) Cambiar el nombre del archivo\n",
        "\n",
        "<font color='red'>WARNING-2: CAMBIA EL NOMBRE DEL ARCHIVO ipynb INCLUYENDO TU NOMBRE Y RUT</font>\n",
        "\n",
        "Ejemplo, si tu nombres es Pedro Perez y RUT es 12.345.678-9, el nombre de este archivo debe cambiarse de \"Nombre_Rut.ipynb\" a \"Pedro_Perez_12345678-9.ipynb\"\n"
      ],
      "metadata": {
        "id": "XI3GEjbyhrKn"
      }
    },
    {
      "cell_type": "markdown",
      "source": [
        "# Defina acá el nombre de proyecto, por ejemplo: 'Clasificación de Sentimientod usando BiLSTM'\n",
        "\n",
        "## Describa su dataset y el problema que quiere resolver:\n",
        "\n",
        "**Ejemplo: **\n",
        "\n",
        "'En este problema de clasificación hay 3 clases:\n",
        "\n",
        "* Clase 0: 'bikes' - personas con bicicleta\n",
        "\n",
        "* Clase 1: 'noperson' - imágenes de la ciudad sin peatones ni bicicletas\n",
        "\n",
        "* Clase 2: 'person' - peatones (sin bicicleta)\n",
        "\n",
        "La solución se hará es usando BiLSTM de la librería HuggingFace'.\n"
      ],
      "metadata": {
        "id": "_7VHpok9KMUn"
      }
    },
    {
      "cell_type": "markdown",
      "metadata": {
        "id": "3_7rNZfIf301"
      },
      "source": [
        "# 1) Carga de datos y librerías a utilizar\n",
        "\n",
        "(2 puntos)\n",
        "\n",
        "Incluya aquí todas las librerías a utilizar en este código.\n",
        "\n",
        "De una ubicación de los datos para ser descargados.\n",
        "\n",
        "Por ejemplo: Los datos se encuentran en `https://www.dropbox.com/s/p94odo87ekacd46/bikes3.zip`\n",
        "\n",
        "\n"
      ]
    },
    {
      "cell_type": "code",
      "execution_count": null,
      "metadata": {
        "id": "6MCTZFkFw6i6"
      },
      "outputs": [],
      "source": []
    },
    {
      "cell_type": "markdown",
      "source": [
        "# 2) Definición de parámetros\n",
        "\n",
        "(1 punto)\n",
        "\n",
        "Defina los parámetros necesarios. Por ejemplo: `fpath` (path de los archivos), `BATCH_SIZE`, etc.\n",
        "\n"
      ],
      "metadata": {
        "id": "xKo__0pwYBXB"
      }
    },
    {
      "cell_type": "code",
      "execution_count": null,
      "metadata": {
        "id": "szKR6NGXdIG3"
      },
      "outputs": [],
      "source": []
    },
    {
      "cell_type": "markdown",
      "source": [
        "# 3) Pre-procesamiento y Data augmentation (si es necesario, investigue métodos para el aumento de los datos artificialente)\n",
        "\n",
        "(2 puntos)\n",
        "\n",
        "Defina los parámetros necesarios, haga los cambios necesarios considerando el tamaño de las imágenes, señales, etc.\n",
        "\n"
      ],
      "metadata": {
        "id": "jpMohz8qYiKp"
      }
    },
    {
      "cell_type": "markdown",
      "metadata": {
        "id": "wyHJjDYLfoFy"
      },
      "source": [
        "# 4) Definir el modelo\n",
        "\n",
        "(1 punto)\n",
        "\n",
        "Defina la clase donde se decriba y declare el o los modelos a usar.\n",
        "\n"
      ]
    },
    {
      "cell_type": "code",
      "source": [],
      "metadata": {
        "id": "37lSfFd5iSN0"
      },
      "execution_count": null,
      "outputs": []
    },
    {
      "cell_type": "markdown",
      "metadata": {
        "id": "At9H-QOStt8_"
      },
      "source": [
        "We will use the pretrained Vision Transformer feature extractor, an Adam Optimizer, and a Cross Entropy Loss function."
      ]
    },
    {
      "cell_type": "markdown",
      "metadata": {
        "id": "XTZ-BP1yu1Us"
      },
      "source": [
        "# 5) Entrenar el modelo\n",
        "\n",
        "(4 puntos)\n",
        "\n",
        "Entre el modelo definido en los pasos anteriores"
      ]
    },
    {
      "cell_type": "code",
      "source": [],
      "metadata": {
        "id": "_ZRYADOzpK62"
      },
      "execution_count": null,
      "outputs": []
    },
    {
      "cell_type": "markdown",
      "source": [
        "# 6) Evaluación de desempeño\n",
        "\n",
        "(2 puntos)\n",
        "\n",
        "Calcule el accuracy en el training, validation y testing."
      ],
      "metadata": {
        "id": "zef_mkx-ZrMV"
      }
    },
    {
      "cell_type": "code",
      "execution_count": null,
      "metadata": {
        "id": "FdrJLwjq5HDu"
      },
      "outputs": [],
      "source": []
    },
    {
      "cell_type": "markdown",
      "metadata": {
        "id": "NwYjqTgK4XlN"
      },
      "source": [
        "# 7) Evaluación aleatoria (de una imagen, señal etc.) del testing\n",
        "\n",
        "(1 punto)\n",
        "\n",
        "Despliegue una señal, imagen, cadena de texto, etc.,  aleatoria del testing con la clasificación proporcionada por el Transformer entrenado."
      ]
    },
    {
      "cell_type": "code",
      "source": [],
      "metadata": {
        "id": "uwZ8xfiRifZM"
      },
      "execution_count": null,
      "outputs": []
    }
  ],
  "metadata": {
    "accelerator": "GPU",
    "colab": {
      "machine_shape": "hm",
      "provenance": [],
      "toc_visible": true,
      "include_colab_link": true
    },
    "kernelspec": {
      "display_name": "Python 3",
      "name": "python3"
    },
    "language_info": {
      "name": "python"
    },
    "gpuClass": "standard"
  },
  "nbformat": 4,
  "nbformat_minor": 0
}