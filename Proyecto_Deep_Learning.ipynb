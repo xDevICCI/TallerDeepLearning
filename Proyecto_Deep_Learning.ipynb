{
  "nbformat": 4,
  "nbformat_minor": 0,
  "metadata": {
    "colab": {
      "provenance": [],
      "include_colab_link": true
    },
    "kernelspec": {
      "name": "python3",
      "display_name": "Python 3"
    },
    "language_info": {
      "name": "python"
    }
  },
  "cells": [
    {
      "cell_type": "markdown",
      "metadata": {
        "id": "view-in-github",
        "colab_type": "text"
      },
      "source": [
        "<a href=\"https://colab.research.google.com/github/xDevICCI/TallerDeepLearning/blob/main/Proyecto_Deep_Learning.ipynb\" target=\"_parent\"><img src=\"https://colab.research.google.com/assets/colab-badge.svg\" alt=\"Open In Colab\"/></a>"
      ]
    },
    {
      "cell_type": "markdown",
      "source": [
        "#💡 Proyecto: Exploración y Propuesta de Problema con Deep Learning\n",
        "\n",
        "🎯 **Objetivo de esta primera etapa**:\n",
        "Identificar una fuente de datos confiable y proponer un problema relevante que pueda ser resuelto utilizando técnicas de Deep Learning, justificando su importancia y viabilidad."
      ],
      "metadata": {
        "id": "Jb9sJjH7D_NO"
      }
    },
    {
      "cell_type": "markdown",
      "source": [
        "##🧩 Parte 1: Exploración de datasets y problemas\n",
        "\n",
        "🔍 Paso 1: Investigar fuentes de datos abiertos\n",
        "Explora al menos dos sitios de datasets reconocidos para Deep Learning:\n",
        "\n",
        "https://www.kaggle.com/datasets\n",
        "\n",
        "https://huggingface.co/datasets\n",
        "\n",
        "https://data.gov/ (para datos públicos y gubernamentales)\n",
        "\n",
        "https://archive.ics.uci.edu/ml/index.php (UCI Machine Learning Repository)\n",
        "\n",
        "https://paperswithcode.com/datasets"
      ],
      "metadata": {
        "id": "g9vJdo-SERMA"
      }
    },
    {
      "cell_type": "markdown",
      "source": [
        "**Instrucciones:**\n",
        "\n",
        "Revisa al menos 10 datasets.\n",
        "\n",
        "Anota sus características principales: tipo de datos, tamaño, dominio (imagen, texto, audio, series temporales, etc.), etiquetas, formato de archivos."
      ],
      "metadata": {
        "id": "pxFtGgfPEWBO"
      }
    },
    {
      "cell_type": "markdown",
      "source": [
        "## 🎯 Paso 2: Elegir 2 datasets de interés\n",
        "Para cada uno:\n",
        "\n",
        "\n",
        "\n",
        "*   Resume en 1 párrafo el contenido del dataset.\n",
        "*   Menciona posibles problemas del mundo real que podrías resolver con ese dataset usando modelos de Deep Learning.\n",
        "*   Indica qué tipo de red usarías (ej: CNN, RNN, Transformer, Autoencoder, etc.) y por qué.\n",
        "*   Menciona potenciales desafíos (datos faltantes, desbalance de clases, complejidad computacional, etc.)\n",
        "\n",
        "\n",
        "\n",
        "\n",
        "\n",
        "\n",
        "\n",
        "\n",
        "\n"
      ],
      "metadata": {
        "id": "54cI4omMEnXx"
      }
    },
    {
      "cell_type": "markdown",
      "source": [
        "## 🧠 Parte 2: Propuesta de proyecto\n",
        "A partir de los datasets explorados, selecciona uno y responde:\n",
        "\n",
        "¿Qué problema concreto resolverás? ¿Por qué es relevante?\n",
        "\n",
        "\n",
        "¿Qué tipo de modelo de Deep Learning usarías inicialmente?\n",
        "\n",
        "¿Qué métrica de evaluación utilizarás y por qué?\n",
        "\n",
        "¿Quiénes serían los usuarios o beneficiarios del modelo?\n",
        "\n",
        "¿Qué esperas lograr con tu modelo? (clasificar, predecir, segmentar, etc.)\n",
        "\n",
        "¿Qué herramientas planeas usar? (PyTorch, TensorFlow, Keras, etc.)"
      ],
      "metadata": {
        "id": "iACXwZx4E_IJ"
      }
    },
    {
      "cell_type": "markdown",
      "source": [
        "## 📤 Entrega (Semana 1–2):\n",
        "Formato sugerido:\n",
        "\n",
        "Un documento PDF o presentación (máx. 5 diapositivas) con:\n",
        "\n",
        "Breve resumen de los datasets explorados\n",
        "\n",
        "Problemas identificados\n",
        "\n",
        "Justificación del dataset y problema seleccionado\n",
        "\n",
        "Propuesta inicial de abordaje con DL\n",
        "\n",
        "O también puede ser entregado como un notebook de Colab con celdas de texto + visualizaciones básicas de los datos si están disponibles."
      ],
      "metadata": {
        "id": "KNdCccroFIRp"
      }
    },
    {
      "cell_type": "markdown",
      "source": [
        "## 🎓 Criterios de evaluación\n",
        "\n",
        "| Criterio                                             | Puntaje |\n",
        "| ---------------------------------------------------- | ------- |\n",
        "| Claridad y profundidad en la exploración de datasets | 20%     |\n",
        "| Relevancia y justificación del problema propuesto    | 25%     |\n",
        "| Viabilidad técnica de la propuesta                   | 25%     |\n",
        "| Originalidad y conexión con aplicaciones reales      | 15%     |\n",
        "| Presentación y orden del entregable                  | 15%     |\n"
      ],
      "metadata": {
        "id": "Fp4nEUHjFN9z"
      }
    }
  ]
}