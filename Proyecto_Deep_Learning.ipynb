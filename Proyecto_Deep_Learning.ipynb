{
  "nbformat": 4,
  "nbformat_minor": 0,
  "metadata": {
    "colab": {
      "provenance": [],
      "include_colab_link": true
    },
    "kernelspec": {
      "name": "python3",
      "display_name": "Python 3"
    },
    "language_info": {
      "name": "python"
    }
  },
  "cells": [
    {
      "cell_type": "markdown",
      "metadata": {
        "id": "view-in-github",
        "colab_type": "text"
      },
      "source": [
        "<a href=\"https://colab.research.google.com/github/xDevICCI/TallerDeepLearning/blob/main/Proyecto_Deep_Learning.ipynb\" target=\"_parent\"><img src=\"https://colab.research.google.com/assets/colab-badge.svg\" alt=\"Open In Colab\"/></a>"
      ]
    },
    {
      "cell_type": "markdown",
      "source": [
        "#💡 Proyecto: Exploración y Propuesta de Problema con Deep Learning\n",
        "\n",
        "🎯 **Objetivo de esta primera etapa**:\n",
        "Identificar una fuente de datos confiable y proponer un problema relevante que pueda ser resuelto utilizando técnicas de Deep Learning, justificando su importancia y viabilidad."
      ],
      "metadata": {
        "id": "Jb9sJjH7D_NO"
      }
    },
    {
      "cell_type": "markdown",
      "source": [
        "##🧩 Parte 1: Exploración de datasets y problemas\n",
        "\n",
        "🔍 Paso 1: Investigar fuentes de datos abiertos\n",
        "Explora al menos dos sitios de datasets reconocidos para Deep Learning:\n",
        "\n",
        "https://www.kaggle.com/datasets\n",
        "\n",
        "https://huggingface.co/datasets\n",
        "\n",
        "https://data.gov/ (para datos públicos y gubernamentales)\n",
        "\n",
        "https://archive.ics.uci.edu/ml/index.php (UCI Machine Learning Repository)\n",
        "\n",
        "https://paperswithcode.com/datasets"
      ],
      "metadata": {
        "id": "g9vJdo-SERMA"
      }
    },
    {
      "cell_type": "markdown",
      "source": [
        "**Instrucciones:**\n",
        "\n",
        "Revisa al menos 10 datasets.\n",
        "\n",
        "Anota sus características principales: tipo de datos, tamaño, dominio (imagen, texto, audio, series temporales, etc.), etiquetas, formato de archivos."
      ],
      "metadata": {
        "id": "pxFtGgfPEWBO"
      }
    },
    {
      "cell_type": "markdown",
      "source": [
        "## 🎯 Paso 2: Elegir 2 datasets de interés\n",
        "Para cada uno:\n",
        "\n",
        "\n",
        "\n",
        "*   Resume en 1 párrafo el contenido del dataset.\n",
        "*   Menciona posibles problemas del mundo real que podrías resolver con ese dataset usando modelos de Deep Learning.\n",
        "*   Indica qué tipo de red usarías (ej: CNN, RNN, Transformer, Autoencoder, etc.) y por qué.\n",
        "*   Menciona potenciales desafíos (datos faltantes, desbalance de clases, complejidad computacional, etc.)\n",
        "\n",
        "\n",
        "\n",
        "\n",
        "\n",
        "\n",
        "\n",
        "\n",
        "\n"
      ],
      "metadata": {
        "id": "54cI4omMEnXx"
      }
    },
    {
      "cell_type": "markdown",
      "source": [
        "# 🎯 Respuesta al Paso 2:\n",
        "\n",
        "Análisis del Dataset de Manufactura Híbrida\n",
        "# 📄 Resumen del contenido del dataset\n",
        "\n",
        "El dataset registra operaciones de manufactura híbrida (combinando procesos aditivos y sustractivos), donde cada fila representa una tarea asociada a una máquina específica. Incluye campos como el tipo de operación (Grinding, Additive, etc.), tiempo estimado y real de procesamiento (Scheduled_Start, Actual_End), consumo energético, disponibilidad de máquina y estado final del trabajo (Completed, Delayed, Failed). Además, se incluye una etiqueta categórica de eficiencia (Moderate Efficiency, Low Efficiency). Estos datos permiten estudiar el rendimiento y fiabilidad de las operaciones en función de múltiples variables técnicas y temporales.\n",
        "\n",
        "# 🛠️ Problemas del mundo real que podrías resolver\n",
        "Con este dataset, se pueden desarrollar modelos predictivos para anticipar retrasos o fallas operativas, y además sugerir el mejor momento o máquina para asignar una tarea, ayudando a optimizar la planificación de producción. Por ejemplo, podrías predecir si un trabajo fallará, o si el tiempo real será mucho mayor al programado, lo que permite al sistema reprogramar tareas o elegir mejores combinaciones máquina-material.\n",
        "\n",
        "# 🧠 Tipo de red neuronal recomendada\n",
        "- LSTM o GRU si se desea modelar la secuencia temporal de trabajos por máquina.\n",
        "- Redes densas (Feedforward) si se trata como un conjunto estático de datos tabulares.\n",
        "\n",
        "# ⚠️ Potenciales desafíos\n",
        "- Datos faltantes: algunas filas no tienen Actual_Start o Actual_End (como en el caso de trabajos fallidos).\n",
        "- Desbalance de clases: pocos trabajos “Failed” o “Delayed” frente a muchos “Completed”.\n",
        "- Variables categóricas que deben ser convertidas correctamente para el modelo (como Operation_Type, Machine_ID, Optimization_Category).\n",
        "Sincronicidad entre trabajos: no es trivial modelar cómo una demora en un trabajo afecta a los siguientes."
      ],
      "metadata": {
        "id": "5x-Jj_qraTYW"
      }
    },
    {
      "cell_type": "markdown",
      "source": [
        "## 🧠 Parte 2: Propuesta de proyecto\n",
        "A partir de los datasets explorados, selecciona uno y responde:\n",
        "\n",
        "¿Qué problema concreto resolverás? ¿Por qué es relevante?\n",
        "\n",
        "\n",
        "¿Qué tipo de modelo de Deep Learning usarías inicialmente?\n",
        "\n",
        "¿Qué métrica de evaluación utilizarás y por qué?\n",
        "\n",
        "¿Quiénes serían los usuarios o beneficiarios del modelo?\n",
        "\n",
        "¿Qué esperas lograr con tu modelo? (clasificar, predecir, segmentar, etc.)\n",
        "\n",
        "¿Qué herramientas planeas usar? (PyTorch, TensorFlow, Keras, etc.)"
      ],
      "metadata": {
        "id": "iACXwZx4E_IJ"
      }
    },
    {
      "cell_type": "markdown",
      "source": [
        "🧠 Parte 2: Propuesta de Proyecto\n",
        "# 🎯 Problema concreto a resolver\n",
        "\n",
        "Predicción de fallas y retrasos en trabajos de manufactura. Se busca anticipar si una tarea programada va a fallar o presentar un retraso significativo. Esto es clave en entornos industriales donde los tiempos muertos y errores cuestan dinero, y permite a los supervisores ajustar el calendario o cambiar recursos con antelación.\n",
        "\n",
        "# 🧠 Tipo de modelo de Deep Learning a utilizar\n",
        "Se iniciará con una red neuronal profunda (MLP) para clasificación multiclase (Completed, Delayed, Failed), usando todas las variables disponibles (tiempo, tipo de operación, energía, disponibilidad, etc.). Si se detecta una fuerte dependencia temporal, se probarán modelos LSTM por máquina o en secuencia de trabajos para modelar la dinámica del scheduling.\n",
        "\n",
        "# 📏 Métrica de evaluación\n",
        "- F1-score macro para evaluar balanceadamente las tres clases (Completed, Delayed, Failed).\n",
        "- Recall para la clase Failed si el objetivo es minimizar fallos sin anticipar.\n",
        "- También se puede usar MCC (Matthews Correlation Coefficient) si hay mucho desbalance.\n",
        "\n",
        "# 👥 Usuarios o beneficiarios del modelo\n",
        "- Supervisores de planta: para reprogramar tareas y evitar cuellos de botella.\n",
        "- Ingenieros de procesos: para mejorar la eficiencia energética y operativa.\n",
        "- Sistemas de planificación automática (MES): para integrar el modelo en el flujo productivo.\n",
        "\n",
        "# 🎯 Objetivo del modelo\n",
        "- Clasificar tareas como “a tiempo”, “retrasadas” o “fallidas” antes de su ejecución.\n",
        "- Sugerir acciones correctivas para mejorar el scheduling.\n",
        "- Eventualmente, usar el modelo como motor de recomendación para planificación dinámica.\n",
        "\n",
        "# 🛠️ Herramientas a utilizar\n",
        "- TensorFlow/Keras o PyTorch para los modelos.\n",
        "- Pandas, NumPy, Scikit-learn para preprocesamiento, imputación de datos y codificación.\n",
        "- Matplotlib/Seaborn para análisis exploratorio.\n",
        "- Posiblemente Optuna o GridSearchCV para tuning de hiperparámetros.\n"
      ],
      "metadata": {
        "id": "3OsucSiXcmV3"
      }
    },
    {
      "cell_type": "markdown",
      "source": [
        "## 📤 Entrega (Semana 1–2):\n",
        "Formato sugerido:\n",
        "\n",
        "Un documento PDF o presentación (máx. 5 diapositivas) con:\n",
        "\n",
        "Breve resumen de los datasets explorados\n",
        "\n",
        "Problemas identificados\n",
        "\n",
        "Justificación del dataset y problema seleccionado\n",
        "\n",
        "Propuesta inicial de abordaje con DL\n",
        "\n",
        "O también puede ser entregado como un notebook de Colab con celdas de texto + visualizaciones básicas de los datos si están disponibles."
      ],
      "metadata": {
        "id": "KNdCccroFIRp"
      }
    },
    {
      "cell_type": "markdown",
      "source": [
        "## 🎓 Criterios de evaluación\n",
        "\n",
        "| Criterio                                             | Puntaje |\n",
        "| ---------------------------------------------------- | ------- |\n",
        "| Claridad y profundidad en la exploración de datasets | 20%     |\n",
        "| Relevancia y justificación del problema propuesto    | 25%     |\n",
        "| Viabilidad técnica de la propuesta                   | 25%     |\n",
        "| Originalidad y conexión con aplicaciones reales      | 15%     |\n",
        "| Presentación y orden del entregable                  | 15%     |\n"
      ],
      "metadata": {
        "id": "Fp4nEUHjFN9z"
      }
    }
  ]
}